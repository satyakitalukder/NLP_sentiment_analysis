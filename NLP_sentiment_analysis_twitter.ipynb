{
 "cells": [
  {
   "cell_type": "markdown",
   "id": "7b833aed-ceac-4766-9638-e8eb6b4ce1ce",
   "metadata": {},
   "source": [
    "### Step 1: Import libraries and set up API keys\n",
    "Replace YOUR_CONSUMER_KEY, YOUR_CONSUMER_SECRET, YOUR_ACCESS_TOKEN, and YOUR_ACCESS_TOKEN_SECRET with your actual Twitter API credentials."
   ]
  },
  {
   "cell_type": "code",
   "execution_count": null,
   "id": "2e6152bd-00c4-4644-9d69-6d1df7b5113b",
   "metadata": {},
   "outputs": [],
   "source": [
    "import tweepy\n",
    "from textblob import TextBlob\n",
    "import pandas as pd\n",
    "import matplotlib.pyplot as plt\n",
    "from datetime import datetime, timedelta\n",
    "\n",
    "# Twitter API credentials\n",
    "CONSUMER_KEY = 'YOUR_CONSUMER_KEY'\n",
    "CONSUMER_SECRET = 'YOUR_CONSUMER_SECRET'\n",
    "ACCESS_TOKEN = 'YOUR_ACCESS_TOKEN'\n",
    "ACCESS_TOKEN_SECRET = 'YOUR_ACCESS_TOKEN_SECRET'\n",
    "\n",
    "# Authenticate with the Twitter API\n",
    "auth = tweepy.OAuthHandler(CONSUMER_KEY, CONSUMER_SECRET)\n",
    "auth.set_access_token(ACCESS_TOKEN, ACCESS_TOKEN_SECRET)\n",
    "api = tweepy.API(auth)\n"
   ]
  },
  {
   "cell_type": "markdown",
   "id": "3ca045d2-c8c9-4633-b6fb-d166d73a6c8b",
   "metadata": {},
   "source": [
    "### Step 2: Fetch tweets\n",
    "Define a function to fetch tweets based on a keyword and date range."
   ]
  },
  {
   "cell_type": "code",
   "execution_count": null,
   "id": "51dd71c2-570c-4c99-959e-4ad159be9f0f",
   "metadata": {},
   "outputs": [],
   "source": [
    "def fetch_tweets(keyword, start_date, end_date, count=100):\n",
    "    tweets = []\n",
    "    for tweet in tweepy.Cursor(api.search_tweets, q=keyword, lang=\"en\", since=start_date, until=end_date).items(count):\n",
    "        tweets.append(tweet.text)\n",
    "    return tweets\n"
   ]
  },
  {
   "cell_type": "markdown",
   "id": "32fbe63f-c25a-4291-9e33-9082a2277b5a",
   "metadata": {},
   "source": [
    "### Step 3: Perform sentiment analysis\n",
    "Define a function to analyze the sentiment of the fetched tweets."
   ]
  },
  {
   "cell_type": "code",
   "execution_count": null,
   "id": "63bd6cf8-231c-4a04-a78c-11f46d5394ca",
   "metadata": {},
   "outputs": [],
   "source": [
    "def analyze_sentiment(tweets):\n",
    "    sentiment_scores = []\n",
    "    for tweet in tweets:\n",
    "        analysis = TextBlob(tweet)\n",
    "        sentiment_scores.append(analysis.sentiment.polarity)\n",
    "    return sentiment_scores\n"
   ]
  },
  {
   "cell_type": "markdown",
   "id": "8ec86053-a987-4e12-84c4-079af3b1cf32",
   "metadata": {},
   "source": [
    "### Step 4: Visualize the sentiment trends\n",
    "Define a function to visualize the sentiment trends over time."
   ]
  },
  {
   "cell_type": "code",
   "execution_count": null,
   "id": "41393054-e672-4e16-ad2d-ff928b8b1297",
   "metadata": {},
   "outputs": [],
   "source": [
    "def visualize_sentiment(sentiment_scores, keyword):\n",
    "    dates = [datetime.now() - timedelta(days=i) for i in range(len(sentiment_scores))]\n",
    "    dates.reverse()\n",
    "\n",
    "    plt.figure(figsize=(10, 5))\n",
    "    plt.plot(dates, sentiment_scores, marker='o')\n",
    "    plt.title(f'Sentiment Analysis of Tweets about \"{keyword}\"')\n",
    "    plt.xlabel('Date')\n",
    "    plt.ylabel('Sentiment Score')\n",
    "    plt.grid(True)\n",
    "    plt.show()\n"
   ]
  },
  {
   "cell_type": "markdown",
   "id": "fb7eecf3-8368-4dd0-b070-343150d5cb43",
   "metadata": {},
   "source": [
    "### Step 5: Putting it all together\n",
    "Fetch tweets, analyze sentiment, and visualize the trends."
   ]
  },
  {
   "cell_type": "code",
   "execution_count": null,
   "id": "196abd12-85c4-4309-bca8-bcf3c9ddb648",
   "metadata": {},
   "outputs": [],
   "source": [
    "def main(keyword, start_date, end_date, count=100):\n",
    "    tweets = fetch_tweets(keyword, start_date, end_date, count)\n",
    "    sentiment_scores = analyze_sentiment(tweets)\n",
    "    visualize_sentiment(sentiment_scores, keyword)\n",
    "\n",
    "# Example usage\n",
    "if __name__ == \"__main__\":\n",
    "    keyword = \"Python\"\n",
    "    start_date = \"2023-07-01\"\n",
    "    end_date = \"2023-07-15\"\n",
    "    tweet_count = 200  # Adjust as needed\n",
    "    \n",
    "    main(keyword, start_date, end_date, tweet_count)\n"
   ]
  },
  {
   "cell_type": "markdown",
   "id": "76e21cf1-160d-4d55-aa03-d77a12a481d1",
   "metadata": {},
   "source": [
    "### Additional Notes:\n",
    "Data Preprocessing: Depending on the data quality, you might need additional preprocessing steps such as removing URLs, mentions, and special characters.\n",
    "Sentiment Analysis: The TextBlob library is a simple and easy-to-use tool for sentiment analysis, but for more complex tasks, consider using libraries like VADER or pre-trained models from Hugging Face.\n",
    "Rate Limits: Be aware of Twitter API rate limits and handle exceptions accordingly.\n",
    "This code will fetch tweets, analyze their sentiment, and plot the sentiment trends over time for a given keyword. Adjust the keyword, start_date, end_date, and tweet_count as needed for your specific project."
   ]
  },
  {
   "cell_type": "code",
   "execution_count": null,
   "id": "cffcab6c-0bb0-402f-8cc6-1c3a2ca0c92b",
   "metadata": {},
   "outputs": [],
   "source": []
  }
 ],
 "metadata": {
  "kernelspec": {
   "display_name": "Python 3 (ipykernel)",
   "language": "python",
   "name": "python3"
  },
  "language_info": {
   "codemirror_mode": {
    "name": "ipython",
    "version": 3
   },
   "file_extension": ".py",
   "mimetype": "text/x-python",
   "name": "python",
   "nbconvert_exporter": "python",
   "pygments_lexer": "ipython3",
   "version": "3.12.3"
  }
 },
 "nbformat": 4,
 "nbformat_minor": 5
}
